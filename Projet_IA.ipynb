{
  "nbformat": 4,
  "nbformat_minor": 0,
  "metadata": {
    "colab": {
      "name": "Projet_IA",
      "provenance": [],
      "collapsed_sections": [],
      "include_colab_link": true
    },
    "kernelspec": {
      "name": "python3",
      "display_name": "Python 3"
    }
  },
  "cells": [
    {
      "cell_type": "markdown",
      "metadata": {
        "id": "view-in-github",
        "colab_type": "text"
      },
      "source": [
        "<a href=\"https://colab.research.google.com/github/Snargol/projet-IA-CESI/blob/main/Projet_IA.ipynb\" target=\"_parent\"><img src=\"https://colab.research.google.com/assets/colab-badge.svg\" alt=\"Open In Colab\"/></a>"
      ]
    },
    {
      "cell_type": "code",
      "metadata": {
        "id": "8JtLsfk1XWP0",
        "colab": {
          "base_uri": "https://localhost:8080/",
          "height": 309
        },
        "outputId": "796bf3d4-6f73-4c71-cf22-67dc97027221"
      },
      "source": [
        "import os\r\n",
        "import pandas as pd\r\n",
        "\r\n",
        "def load_data(name):\r\n",
        "    csv_path = os.path.join(\"./\"+name+\".csv\")\r\n",
        "    return pd.read_csv(csv_path)\r\n",
        "\r\n",
        "def load_final_data():\r\n",
        "  general_data = load_data(\"general_data_full\")\r\n",
        "  employee_survey_data = load_data(\"employee_survey_data_full\")\r\n",
        "  manager_survey_data = load_data(\"manager_survey_data_full\")\r\n",
        "  temp_result = pd.merge(general_data,employee_survey_data,on='EmployeeID')\r\n",
        "  result = pd.merge(temp_result,manager_survey_data,on='EmployeeID')\r\n",
        "  return result.drop(columns=['EmployeeCount','StandardHours','Over18'])\r\n",
        "\r\n",
        "columns_to_fill = ['NumCompaniesWorked','TotalWorkingYears','EnvironmentSatisfaction','JobSatisfaction','WorkLifeBalance',]\r\n",
        "binary_columns = ['Attrition','Gender']\r\n",
        "nominal_columns = ['Department','EducationField','JobRole','MaritalStatus']\r\n",
        "ordinal_columns =  [\r\n",
        "    {\r\n",
        "        \"label\":'BusinessTravel',\r\n",
        "        \"order\":['Non-Travel','Travel_Rarely','Travel_Frequently']\r\n",
        "    }\r\n",
        "]\r\n",
        "other_columns = ['Age', 'DistanceFromHome', ]\r\n",
        "\r\n",
        "\r\n",
        "data = load_final_data()\r\n",
        "data.head()"
      ],
      "execution_count": null,
      "outputs": [
        {
          "output_type": "execute_result",
          "data": {
            "text/html": [
              "<div>\n",
              "<style scoped>\n",
              "    .dataframe tbody tr th:only-of-type {\n",
              "        vertical-align: middle;\n",
              "    }\n",
              "\n",
              "    .dataframe tbody tr th {\n",
              "        vertical-align: top;\n",
              "    }\n",
              "\n",
              "    .dataframe thead th {\n",
              "        text-align: right;\n",
              "    }\n",
              "</style>\n",
              "<table border=\"1\" class=\"dataframe\">\n",
              "  <thead>\n",
              "    <tr style=\"text-align: right;\">\n",
              "      <th></th>\n",
              "      <th>Age</th>\n",
              "      <th>Attrition</th>\n",
              "      <th>BusinessTravel</th>\n",
              "      <th>Department</th>\n",
              "      <th>DistanceFromHome</th>\n",
              "      <th>Education</th>\n",
              "      <th>EducationField</th>\n",
              "      <th>EmployeeID</th>\n",
              "      <th>Gender</th>\n",
              "      <th>JobLevel</th>\n",
              "      <th>JobRole</th>\n",
              "      <th>MaritalStatus</th>\n",
              "      <th>MonthlyIncome</th>\n",
              "      <th>NumCompaniesWorked</th>\n",
              "      <th>PercentSalaryHike</th>\n",
              "      <th>StockOptionLevel</th>\n",
              "      <th>TotalWorkingYears</th>\n",
              "      <th>TrainingTimesLastYear</th>\n",
              "      <th>YearsAtCompany</th>\n",
              "      <th>YearsSinceLastPromotion</th>\n",
              "      <th>YearsWithCurrManager</th>\n",
              "      <th>EnvironmentSatisfaction</th>\n",
              "      <th>JobSatisfaction</th>\n",
              "      <th>WorkLifeBalance</th>\n",
              "      <th>JobInvolvement</th>\n",
              "      <th>PerformanceRating</th>\n",
              "    </tr>\n",
              "  </thead>\n",
              "  <tbody>\n",
              "    <tr>\n",
              "      <th>0</th>\n",
              "      <td>51</td>\n",
              "      <td>No</td>\n",
              "      <td>Travel_Rarely</td>\n",
              "      <td>Sales</td>\n",
              "      <td>6</td>\n",
              "      <td>2</td>\n",
              "      <td>Life Sciences</td>\n",
              "      <td>1</td>\n",
              "      <td>Female</td>\n",
              "      <td>1</td>\n",
              "      <td>Healthcare Representative</td>\n",
              "      <td>Married</td>\n",
              "      <td>131160</td>\n",
              "      <td>1.0</td>\n",
              "      <td>11</td>\n",
              "      <td>0</td>\n",
              "      <td>1.0</td>\n",
              "      <td>6</td>\n",
              "      <td>1</td>\n",
              "      <td>0</td>\n",
              "      <td>0</td>\n",
              "      <td>3.0</td>\n",
              "      <td>4.0</td>\n",
              "      <td>2.0</td>\n",
              "      <td>3</td>\n",
              "      <td>3</td>\n",
              "    </tr>\n",
              "    <tr>\n",
              "      <th>1</th>\n",
              "      <td>31</td>\n",
              "      <td>Yes</td>\n",
              "      <td>Travel_Frequently</td>\n",
              "      <td>Research &amp; Development</td>\n",
              "      <td>10</td>\n",
              "      <td>1</td>\n",
              "      <td>Life Sciences</td>\n",
              "      <td>2</td>\n",
              "      <td>Female</td>\n",
              "      <td>1</td>\n",
              "      <td>Research Scientist</td>\n",
              "      <td>Single</td>\n",
              "      <td>41890</td>\n",
              "      <td>0.0</td>\n",
              "      <td>23</td>\n",
              "      <td>1</td>\n",
              "      <td>6.0</td>\n",
              "      <td>3</td>\n",
              "      <td>5</td>\n",
              "      <td>1</td>\n",
              "      <td>4</td>\n",
              "      <td>3.0</td>\n",
              "      <td>2.0</td>\n",
              "      <td>4.0</td>\n",
              "      <td>2</td>\n",
              "      <td>4</td>\n",
              "    </tr>\n",
              "    <tr>\n",
              "      <th>2</th>\n",
              "      <td>32</td>\n",
              "      <td>No</td>\n",
              "      <td>Travel_Frequently</td>\n",
              "      <td>Research &amp; Development</td>\n",
              "      <td>17</td>\n",
              "      <td>4</td>\n",
              "      <td>Other</td>\n",
              "      <td>3</td>\n",
              "      <td>Male</td>\n",
              "      <td>4</td>\n",
              "      <td>Sales Executive</td>\n",
              "      <td>Married</td>\n",
              "      <td>193280</td>\n",
              "      <td>1.0</td>\n",
              "      <td>15</td>\n",
              "      <td>3</td>\n",
              "      <td>5.0</td>\n",
              "      <td>2</td>\n",
              "      <td>5</td>\n",
              "      <td>0</td>\n",
              "      <td>3</td>\n",
              "      <td>2.0</td>\n",
              "      <td>2.0</td>\n",
              "      <td>1.0</td>\n",
              "      <td>3</td>\n",
              "      <td>3</td>\n",
              "    </tr>\n",
              "    <tr>\n",
              "      <th>3</th>\n",
              "      <td>38</td>\n",
              "      <td>No</td>\n",
              "      <td>Non-Travel</td>\n",
              "      <td>Research &amp; Development</td>\n",
              "      <td>2</td>\n",
              "      <td>5</td>\n",
              "      <td>Life Sciences</td>\n",
              "      <td>4</td>\n",
              "      <td>Male</td>\n",
              "      <td>3</td>\n",
              "      <td>Human Resources</td>\n",
              "      <td>Married</td>\n",
              "      <td>83210</td>\n",
              "      <td>3.0</td>\n",
              "      <td>11</td>\n",
              "      <td>3</td>\n",
              "      <td>13.0</td>\n",
              "      <td>5</td>\n",
              "      <td>8</td>\n",
              "      <td>7</td>\n",
              "      <td>5</td>\n",
              "      <td>4.0</td>\n",
              "      <td>4.0</td>\n",
              "      <td>3.0</td>\n",
              "      <td>2</td>\n",
              "      <td>3</td>\n",
              "    </tr>\n",
              "    <tr>\n",
              "      <th>4</th>\n",
              "      <td>32</td>\n",
              "      <td>No</td>\n",
              "      <td>Travel_Rarely</td>\n",
              "      <td>Research &amp; Development</td>\n",
              "      <td>10</td>\n",
              "      <td>1</td>\n",
              "      <td>Medical</td>\n",
              "      <td>5</td>\n",
              "      <td>Male</td>\n",
              "      <td>1</td>\n",
              "      <td>Sales Executive</td>\n",
              "      <td>Single</td>\n",
              "      <td>23420</td>\n",
              "      <td>4.0</td>\n",
              "      <td>12</td>\n",
              "      <td>2</td>\n",
              "      <td>9.0</td>\n",
              "      <td>2</td>\n",
              "      <td>6</td>\n",
              "      <td>0</td>\n",
              "      <td>4</td>\n",
              "      <td>4.0</td>\n",
              "      <td>1.0</td>\n",
              "      <td>3.0</td>\n",
              "      <td>3</td>\n",
              "      <td>3</td>\n",
              "    </tr>\n",
              "  </tbody>\n",
              "</table>\n",
              "</div>"
            ],
            "text/plain": [
              "   Age Attrition  ... JobInvolvement PerformanceRating\n",
              "0   51        No  ...              3                 3\n",
              "1   31       Yes  ...              2                 4\n",
              "2   32        No  ...              3                 3\n",
              "3   38        No  ...              2                 3\n",
              "4   32        No  ...              3                 3\n",
              "\n",
              "[5 rows x 26 columns]"
            ]
          },
          "metadata": {
            "tags": []
          },
          "execution_count": 208
        }
      ]
    },
    {
      "cell_type": "code",
      "metadata": {
        "colab": {
          "base_uri": "https://localhost:8080/"
        },
        "id": "v6dW57-Uc3HI",
        "outputId": "0067a3ce-9bf0-44ba-b19f-a0b5e46207db"
      },
      "source": [
        "def check_contains_nan(columns_to_fill):\r\n",
        "  count_nan = 0\r\n",
        "  for each in columns_to_fill:\r\n",
        "    temp_count_nan = count_nan + data[each].isna().sum()\r\n",
        "    count_nan= temp_count_nan\r\n",
        "  return (count_nan != 0)\r\n",
        "\r\n",
        "check_contains_nan(columns_to_fill)"
      ],
      "execution_count": null,
      "outputs": [
        {
          "output_type": "execute_result",
          "data": {
            "text/plain": [
              "True"
            ]
          },
          "metadata": {
            "tags": []
          },
          "execution_count": 61
        }
      ]
    },
    {
      "cell_type": "code",
      "metadata": {
        "colab": {
          "base_uri": "https://localhost:8080/",
          "height": 370
        },
        "id": "fHwP8Kvqc4Un",
        "outputId": "b288082a-7718-4ba4-e059-16301bd217e6"
      },
      "source": [
        "from sklearn.impute import SimpleImputer\r\n",
        "import numpy as np\r\n",
        "imputer = SimpleImputer(strategy=\"median\")\r\n",
        "data_num = data.select_dtypes(include=[np.number])\r\n",
        "check_contains_nan(data_num)\r\n",
        "imputer.fit(data_num)\r\n",
        "data_num_filled = imputer.transform(data_num)\r\n",
        "check_contains_nan(data_num_filled)"
      ],
      "execution_count": null,
      "outputs": [
        {
          "output_type": "error",
          "ename": "KeyError",
          "evalue": "ignored",
          "traceback": [
            "\u001b[0;31m---------------------------------------------------------------------------\u001b[0m",
            "\u001b[0;31mKeyError\u001b[0m                                  Traceback (most recent call last)",
            "\u001b[0;32m<ipython-input-62-9b07cf4358fe>\u001b[0m in \u001b[0;36m<module>\u001b[0;34m()\u001b[0m\n\u001b[1;32m      6\u001b[0m \u001b[0mimputer\u001b[0m\u001b[0;34m.\u001b[0m\u001b[0mfit\u001b[0m\u001b[0;34m(\u001b[0m\u001b[0mdata_num\u001b[0m\u001b[0;34m)\u001b[0m\u001b[0;34m\u001b[0m\u001b[0;34m\u001b[0m\u001b[0m\n\u001b[1;32m      7\u001b[0m \u001b[0mdata_num_filled\u001b[0m \u001b[0;34m=\u001b[0m \u001b[0mimputer\u001b[0m\u001b[0;34m.\u001b[0m\u001b[0mtransform\u001b[0m\u001b[0;34m(\u001b[0m\u001b[0mdata_num\u001b[0m\u001b[0;34m)\u001b[0m\u001b[0;34m\u001b[0m\u001b[0;34m\u001b[0m\u001b[0m\n\u001b[0;32m----> 8\u001b[0;31m \u001b[0mcheck_contains_nan\u001b[0m\u001b[0;34m(\u001b[0m\u001b[0mdata_num_filled\u001b[0m\u001b[0;34m)\u001b[0m\u001b[0;34m\u001b[0m\u001b[0;34m\u001b[0m\u001b[0m\n\u001b[0m",
            "\u001b[0;32m<ipython-input-61-a6aa053d2e15>\u001b[0m in \u001b[0;36mcheck_contains_nan\u001b[0;34m(columns_to_fill)\u001b[0m\n\u001b[1;32m      2\u001b[0m   \u001b[0mcount_nan\u001b[0m \u001b[0;34m=\u001b[0m \u001b[0;36m0\u001b[0m\u001b[0;34m\u001b[0m\u001b[0;34m\u001b[0m\u001b[0m\n\u001b[1;32m      3\u001b[0m   \u001b[0;32mfor\u001b[0m \u001b[0meach\u001b[0m \u001b[0;32min\u001b[0m \u001b[0mcolumns_to_fill\u001b[0m\u001b[0;34m:\u001b[0m\u001b[0;34m\u001b[0m\u001b[0;34m\u001b[0m\u001b[0m\n\u001b[0;32m----> 4\u001b[0;31m     \u001b[0mtemp_count_nan\u001b[0m \u001b[0;34m=\u001b[0m \u001b[0mcount_nan\u001b[0m \u001b[0;34m+\u001b[0m \u001b[0mdata\u001b[0m\u001b[0;34m[\u001b[0m\u001b[0meach\u001b[0m\u001b[0;34m]\u001b[0m\u001b[0;34m.\u001b[0m\u001b[0misna\u001b[0m\u001b[0;34m(\u001b[0m\u001b[0;34m)\u001b[0m\u001b[0;34m.\u001b[0m\u001b[0msum\u001b[0m\u001b[0;34m(\u001b[0m\u001b[0;34m)\u001b[0m\u001b[0;34m\u001b[0m\u001b[0;34m\u001b[0m\u001b[0m\n\u001b[0m\u001b[1;32m      5\u001b[0m     \u001b[0mcount_nan\u001b[0m\u001b[0;34m=\u001b[0m \u001b[0mtemp_count_nan\u001b[0m\u001b[0;34m\u001b[0m\u001b[0;34m\u001b[0m\u001b[0m\n\u001b[1;32m      6\u001b[0m   \u001b[0;32mreturn\u001b[0m \u001b[0;34m(\u001b[0m\u001b[0mcount_nan\u001b[0m \u001b[0;34m!=\u001b[0m \u001b[0;36m0\u001b[0m\u001b[0;34m)\u001b[0m\u001b[0;34m\u001b[0m\u001b[0;34m\u001b[0m\u001b[0m\n",
            "\u001b[0;32m/usr/local/lib/python3.7/dist-packages/pandas/core/frame.py\u001b[0m in \u001b[0;36m__getitem__\u001b[0;34m(self, key)\u001b[0m\n\u001b[1;32m   2910\u001b[0m             \u001b[0;32mif\u001b[0m \u001b[0mis_iterator\u001b[0m\u001b[0;34m(\u001b[0m\u001b[0mkey\u001b[0m\u001b[0;34m)\u001b[0m\u001b[0;34m:\u001b[0m\u001b[0;34m\u001b[0m\u001b[0;34m\u001b[0m\u001b[0m\n\u001b[1;32m   2911\u001b[0m                 \u001b[0mkey\u001b[0m \u001b[0;34m=\u001b[0m \u001b[0mlist\u001b[0m\u001b[0;34m(\u001b[0m\u001b[0mkey\u001b[0m\u001b[0;34m)\u001b[0m\u001b[0;34m\u001b[0m\u001b[0;34m\u001b[0m\u001b[0m\n\u001b[0;32m-> 2912\u001b[0;31m             \u001b[0mindexer\u001b[0m \u001b[0;34m=\u001b[0m \u001b[0mself\u001b[0m\u001b[0;34m.\u001b[0m\u001b[0mloc\u001b[0m\u001b[0;34m.\u001b[0m\u001b[0m_get_listlike_indexer\u001b[0m\u001b[0;34m(\u001b[0m\u001b[0mkey\u001b[0m\u001b[0;34m,\u001b[0m \u001b[0maxis\u001b[0m\u001b[0;34m=\u001b[0m\u001b[0;36m1\u001b[0m\u001b[0;34m,\u001b[0m \u001b[0mraise_missing\u001b[0m\u001b[0;34m=\u001b[0m\u001b[0;32mTrue\u001b[0m\u001b[0;34m)\u001b[0m\u001b[0;34m[\u001b[0m\u001b[0;36m1\u001b[0m\u001b[0;34m]\u001b[0m\u001b[0;34m\u001b[0m\u001b[0;34m\u001b[0m\u001b[0m\n\u001b[0m\u001b[1;32m   2913\u001b[0m \u001b[0;34m\u001b[0m\u001b[0m\n\u001b[1;32m   2914\u001b[0m         \u001b[0;31m# take() does not accept boolean indexers\u001b[0m\u001b[0;34m\u001b[0m\u001b[0;34m\u001b[0m\u001b[0;34m\u001b[0m\u001b[0m\n",
            "\u001b[0;32m/usr/local/lib/python3.7/dist-packages/pandas/core/indexing.py\u001b[0m in \u001b[0;36m_get_listlike_indexer\u001b[0;34m(self, key, axis, raise_missing)\u001b[0m\n\u001b[1;32m   1252\u001b[0m             \u001b[0mkeyarr\u001b[0m\u001b[0;34m,\u001b[0m \u001b[0mindexer\u001b[0m\u001b[0;34m,\u001b[0m \u001b[0mnew_indexer\u001b[0m \u001b[0;34m=\u001b[0m \u001b[0max\u001b[0m\u001b[0;34m.\u001b[0m\u001b[0m_reindex_non_unique\u001b[0m\u001b[0;34m(\u001b[0m\u001b[0mkeyarr\u001b[0m\u001b[0;34m)\u001b[0m\u001b[0;34m\u001b[0m\u001b[0;34m\u001b[0m\u001b[0m\n\u001b[1;32m   1253\u001b[0m \u001b[0;34m\u001b[0m\u001b[0m\n\u001b[0;32m-> 1254\u001b[0;31m         \u001b[0mself\u001b[0m\u001b[0;34m.\u001b[0m\u001b[0m_validate_read_indexer\u001b[0m\u001b[0;34m(\u001b[0m\u001b[0mkeyarr\u001b[0m\u001b[0;34m,\u001b[0m \u001b[0mindexer\u001b[0m\u001b[0;34m,\u001b[0m \u001b[0maxis\u001b[0m\u001b[0;34m,\u001b[0m \u001b[0mraise_missing\u001b[0m\u001b[0;34m=\u001b[0m\u001b[0mraise_missing\u001b[0m\u001b[0;34m)\u001b[0m\u001b[0;34m\u001b[0m\u001b[0;34m\u001b[0m\u001b[0m\n\u001b[0m\u001b[1;32m   1255\u001b[0m         \u001b[0;32mreturn\u001b[0m \u001b[0mkeyarr\u001b[0m\u001b[0;34m,\u001b[0m \u001b[0mindexer\u001b[0m\u001b[0;34m\u001b[0m\u001b[0;34m\u001b[0m\u001b[0m\n\u001b[1;32m   1256\u001b[0m \u001b[0;34m\u001b[0m\u001b[0m\n",
            "\u001b[0;32m/usr/local/lib/python3.7/dist-packages/pandas/core/indexing.py\u001b[0m in \u001b[0;36m_validate_read_indexer\u001b[0;34m(self, key, indexer, axis, raise_missing)\u001b[0m\n\u001b[1;32m   1296\u001b[0m             \u001b[0;32mif\u001b[0m \u001b[0mmissing\u001b[0m \u001b[0;34m==\u001b[0m \u001b[0mlen\u001b[0m\u001b[0;34m(\u001b[0m\u001b[0mindexer\u001b[0m\u001b[0;34m)\u001b[0m\u001b[0;34m:\u001b[0m\u001b[0;34m\u001b[0m\u001b[0;34m\u001b[0m\u001b[0m\n\u001b[1;32m   1297\u001b[0m                 \u001b[0maxis_name\u001b[0m \u001b[0;34m=\u001b[0m \u001b[0mself\u001b[0m\u001b[0;34m.\u001b[0m\u001b[0mobj\u001b[0m\u001b[0;34m.\u001b[0m\u001b[0m_get_axis_name\u001b[0m\u001b[0;34m(\u001b[0m\u001b[0maxis\u001b[0m\u001b[0;34m)\u001b[0m\u001b[0;34m\u001b[0m\u001b[0;34m\u001b[0m\u001b[0m\n\u001b[0;32m-> 1298\u001b[0;31m                 \u001b[0;32mraise\u001b[0m \u001b[0mKeyError\u001b[0m\u001b[0;34m(\u001b[0m\u001b[0;34mf\"None of [{key}] are in the [{axis_name}]\"\u001b[0m\u001b[0;34m)\u001b[0m\u001b[0;34m\u001b[0m\u001b[0;34m\u001b[0m\u001b[0m\n\u001b[0m\u001b[1;32m   1299\u001b[0m \u001b[0;34m\u001b[0m\u001b[0m\n\u001b[1;32m   1300\u001b[0m             \u001b[0;31m# We (temporarily) allow for some missing keys with .loc, except in\u001b[0m\u001b[0;34m\u001b[0m\u001b[0;34m\u001b[0m\u001b[0;34m\u001b[0m\u001b[0m\n",
            "\u001b[0;31mKeyError\u001b[0m: \"None of [Float64Index([    51.0,      6.0,      2.0,      1.0,      1.0, 131160.0,\\n                   1.0,     11.0,      0.0,      1.0,      6.0,      1.0,\\n                   0.0,      0.0,      3.0,      4.0,      2.0,      3.0,\\n                   3.0],\\n             dtype='float64')] are in the [columns]\""
          ]
        }
      ]
    },
    {
      "cell_type": "code",
      "metadata": {
        "id": "qH2MekvPmNfA"
      },
      "source": [
        "from itertools import groupby\r\n",
        "import matplotlib.pyplot as plt\r\n",
        "\r\n",
        "# we regroup by category with a count of the element\r\n",
        "def groupBySameElements(list):\r\n",
        "  toReturn = []\r\n",
        "  for elem in list:\r\n",
        "    if not any(elem in i for i in toReturn):\r\n",
        "      toReturn.append((elem, list.count(elem)))\r\n",
        "  return toReturn\r\n",
        "\r\n",
        "# we get list of elements from a colmun of data\r\n",
        "def getElemList(list):\r\n",
        "  toReturn = []\r\n",
        "  for i in data.MaritalStatus:\r\n",
        "    toReturn.append(str(i))\r\n",
        "  return toReturn\r\n",
        "\r\n",
        "  # we get the index of the element in the list (by propertyname)\r\n",
        "def findIndex(propertyName, elem, list):\r\n",
        "  if list:\r\n",
        "    i = 0\r\n",
        "    for x in list:\r\n",
        "      if x[propertyName] == elem:\r\n",
        "        return i\r\n",
        "      i += 1\r\n",
        "  return -1\r\n",
        "\r\n",
        "# we regroup by category with a count of the element and of the attrition\r\n",
        "def groupBySameElementsTuple(list):\r\n",
        "  toReturn = []\r\n",
        "  for elem in list:\r\n",
        "    index = findIndex('category', elem[0], toReturn)\r\n",
        "    if index < 0:\r\n",
        "      toAdd={}\r\n",
        "      toAdd['category'], toAdd['count'], toAdd['countAttrition'] = elem[0], 1, 1\r\n",
        "      toReturn.append(toAdd)\r\n",
        "    else:\r\n",
        "      if elem[1] == 'Yes':\r\n",
        "        toReturn[index]['countAttrition'] += 1\r\n",
        "      toReturn[index]['count'] += 1\r\n",
        "  return toReturn\r\n",
        "\r\n",
        "# we return list of elements by category and by number and attrition\r\n",
        "def getElementCountAttrition(data):\r\n",
        "  toReturn = []\r\n",
        "  for i in data:\r\n",
        "    toReturn.append(i)\r\n",
        "  return toReturn\r\n",
        "\r\n",
        "# we display the details with the correct percent (sorted)\r\n",
        "# listExample = [{'category': 'Sales', 'count': 1338, 'countAttrition': 202}]\r\n",
        "def printList(list):\r\n",
        "  newlist = sorted(list, key=lambda x: ((x['countAttrition'] / x['count']) * 100), reverse=True)\r\n",
        "  for elem in newlist:\r\n",
        "    print('   ',elem['category'], ' : ', round((elem['countAttrition'] / elem['count']) * 100), '%', '(', elem['countAttrition'], '/', elem['count'], ')')\r\n",
        "\r\n",
        "def drawGraph(labels, data):\r\n",
        "  fig = plt.figure()\r\n",
        "  ax = fig.add_axes([0,0,1,1])\r\n",
        "  labels, percents = labels, data\r\n",
        "  ax.bar(labels,percents)\r\n",
        "  plt.show()\r\n",
        "\r\n",
        "def drawColumn(columnName):\r\n",
        "  listTuples = getElementCountAttrition(zip(data[columnName], data.Attrition))\r\n",
        "  list = groupBySameElementsTuple(listTuples)\r\n",
        "  print('\\n\\n\\n', columnName)\r\n",
        "\r\n",
        "  labels = []\r\n",
        "  percents = []\r\n",
        "  for elem in list:\r\n",
        "    labels.append(elem['category'])\r\n",
        "    percents.append((elem['countAttrition'] / elem['count']) * 100)\r\n",
        "  printList(list)\r\n",
        "\r\n",
        "  drawGraph(labels, percents)"
      ],
      "execution_count": null,
      "outputs": []
    },
    {
      "cell_type": "code",
      "metadata": {
        "id": "0N2eqoTsRuKn",
        "colab": {
          "base_uri": "https://localhost:8080/",
          "height": 1000
        },
        "outputId": "d526f408-29ab-4164-d74a-983f4f068ba0"
      },
      "source": [
        "for columnName in nominal_columns:\r\n",
        "  drawColumn(columnName)\r\n",
        "\r\n",
        "for columnName in columns_to_fill:\r\n",
        "  columnName\r\n",
        "  drawColumn(columnName)\r\n"
      ],
      "execution_count": null,
      "outputs": [
        {
          "output_type": "stream",
          "text": [
            "\n",
            "\n",
            "\n",
            " Department\n",
            "    Human Resources  :  31 % ( 58 / 189 )\n",
            "    Research & Development  :  16 % ( 453 / 2883 )\n",
            "    Sales  :  15 % ( 202 / 1338 )\n"
          ],
          "name": "stdout"
        },
        {
          "output_type": "display_data",
          "data": {
            "image/png": "[encoded data removed]",
            "text/plain": [
              "<Figure size 432x288 with 1 Axes>"
            ]
          },
          "metadata": {
            "tags": [],
            "needs_background": "light"
          }
        },
        {
          "output_type": "stream",
          "text": [
            "\n",
            "\n",
            "\n",
            " EducationField\n",
            "    Human Resources  :  42 % ( 34 / 81 )\n",
            "    Life Sciences  :  17 % ( 304 / 1818 )\n",
            "    Medical  :  16 % ( 226 / 1392 )\n",
            "    Marketing  :  16 % ( 76 / 477 )\n",
            "    Other  :  13 % ( 31 / 246 )\n",
            "    Technical Degree  :  12 % ( 46 / 396 )\n"
          ],
          "name": "stdout"
        },
        {
          "output_type": "display_data",
          "data": {
            "image/png": "[encoded data removed]",
            "text/plain": [
              "<Figure size 432x288 with 1 Axes>"
            ]
          },
          "metadata": {
            "tags": [],
            "needs_background": "light"
          }
        },
        {
          "output_type": "stream",
          "text": [
            "\n",
            "\n",
            "\n",
            " JobRole\n",
            "    Research Director  :  24 % ( 58 / 240 )\n",
            "    Research Scientist  :  18 % ( 159 / 876 )\n",
            "    Sales Executive  :  17 % ( 166 / 978 )\n",
            "    Laboratory Technician  :  16 % ( 127 / 777 )\n",
            "    Sales Representative  :  15 % ( 37 / 249 )\n",
            "    Healthcare Representative  :  15 % ( 58 / 393 )\n",
            "    Human Resources  :  14 % ( 22 / 156 )\n",
            "    Manager  :  14 % ( 43 / 306 )\n",
            "    Manufacturing Director  :  11 % ( 49 / 435 )\n"
          ],
          "name": "stdout"
        },
        {
          "output_type": "display_data",
          "data": {
            "image/png": "[encoded data removed]",
            "text/plain": [
              "<Figure size 432x288 with 1 Axes>"
            ]
          },
          "metadata": {
            "tags": [],
            "needs_background": "light"
          }
        },
        {
          "output_type": "stream",
          "text": [
            "\n",
            "\n",
            "\n",
            " MaritalStatus\n",
            "    Single  :  26 % ( 360 / 1410 )\n",
            "    Married  :  13 % ( 253 / 2019 )\n",
            "    Divorced  :  10 % ( 100 / 981 )\n"
          ],
          "name": "stdout"
        },
        {
          "output_type": "display_data",
          "data": {
            "image/png": "[encoded data removed]",
            "text/plain": [
              "<Figure size 432x288 with 1 Axes>"
            ]
          },
          "metadata": {
            "tags": [],
            "needs_background": "light"
          }
        },
        {
          "output_type": "stream",
          "text": [
            "\n",
            "\n",
            "\n",
            " NumCompaniesWorked\n",
            "    nan  :  100 % ( 1 / 1 )\n",
            "    nan  :  100 % ( 1 / 1 )\n",
            "    nan  :  100 % ( 1 / 1 )\n",
            "    nan  :  100 % ( 1 / 1 )\n",
            "    nan  :  100 % ( 1 / 1 )\n",
            "    nan  :  100 % ( 1 / 1 )\n",
            "    nan  :  100 % ( 1 / 1 )\n",
            "    nan  :  100 % ( 1 / 1 )\n",
            "    nan  :  100 % ( 1 / 1 )\n",
            "    nan  :  100 % ( 1 / 1 )\n",
            "    nan  :  100 % ( 1 / 1 )\n",
            "    nan  :  100 % ( 1 / 1 )\n",
            "    nan  :  100 % ( 1 / 1 )\n",
            "    nan  :  100 % ( 1 / 1 )\n",
            "    nan  :  100 % ( 1 / 1 )\n",
            "    nan  :  100 % ( 1 / 1 )\n",
            "    nan  :  100 % ( 1 / 1 )\n",
            "    nan  :  100 % ( 1 / 1 )\n",
            "    nan  :  100 % ( 1 / 1 )\n",
            "    5.0  :  25 % ( 47 / 187 )\n",
            "    9.0  :  24 % ( 37 / 156 )\n",
            "    6.0  :  24 % ( 49 / 208 )\n",
            "    7.0  :  23 % ( 52 / 222 )\n",
            "    1.0  :  19 % ( 294 / 1558 )\n",
            "    8.0  :  13 % ( 19 / 147 )\n",
            "    4.0  :  12 % ( 51 / 415 )\n",
            "    0.0  :  12 % ( 69 / 586 )\n",
            "    2.0  :  11 % ( 48 / 438 )\n",
            "    3.0  :  10 % ( 49 / 474 )\n"
          ],
          "name": "stdout"
        },
        {
          "output_type": "display_data",
          "data": {
            "image/png": "[encoded data removed]",
            "text/plain": [
              "<Figure size 432x288 with 1 Axes>"
            ]
          },
          "metadata": {
            "tags": [],
            "needs_background": "light"
          }
        },
        {
          "output_type": "stream",
          "text": [
            "\n",
            "\n",
            "\n",
            " TotalWorkingYears\n",
            "    nan  :  100 % ( 1 / 1 )\n",
            "    nan  :  100 % ( 1 / 1 )\n",
            "    nan  :  100 % ( 1 / 1 )\n",
            "    40.0  :  100 % ( 6 / 6 )\n",
            "    nan  :  100 % ( 1 / 1 )\n",
            "    nan  :  100 % ( 1 / 1 )\n",
            "    nan  :  100 % ( 1 / 1 )\n",
            "    nan  :  100 % ( 1 / 1 )\n",
            "    nan  :  100 % ( 1 / 1 )\n",
            "    nan  :  100 % ( 1 / 1 )\n",
            "    1.0  :  50 % ( 120 / 242 )\n",
            "    0.0  :  45 % ( 15 / 33 )\n",
            "    38.0  :  33 % ( 1 / 3 )\n",
            "    2.0  :  30 % ( 28 / 93 )\n",
            "    34.0  :  27 % ( 4 / 15 )\n",
            "    7.0  :  23 % ( 55 / 243 )\n",
            "    3.0  :  22 % ( 28 / 126 )\n",
            "    11.0  :  21 % ( 22 / 106 )\n",
            "    4.0  :  20 % ( 37 / 189 )\n",
            "    33.0  :  19 % ( 4 / 21 )\n",
            "    5.0  :  19 % ( 49 / 264 )\n",
            "    24.0  :  19 % ( 10 / 54 )\n",
            "    6.0  :  18 % ( 66 / 375 )\n",
            "    18.0  :  16 % ( 13 / 81 )\n",
            "    8.0  :  16 % ( 48 / 307 )\n",
            "    31.0  :  15 % ( 4 / 27 )\n",
            "    14.0  :  14 % ( 13 / 93 )\n",
            "    19.0  :  14 % ( 9 / 66 )\n",
            "    15.0  :  13 % ( 16 / 120 )\n",
            "    10.0  :  13 % ( 76 / 605 )\n",
            "    22.0  :  11 % ( 7 / 62 )\n",
            "    12.0  :  11 % ( 16 / 144 )\n",
            "    35.0  :  11 % ( 1 / 9 )\n",
            "    9.0  :  11 % ( 31 / 287 )\n",
            "    23.0  :  11 % ( 7 / 66 )\n",
            "    17.0  :  10 % ( 10 / 99 )\n",
            "    28.0  :  10 % ( 4 / 42 )\n",
            "    25.0  :  10 % ( 4 / 42 )\n",
            "    26.0  :  10 % ( 4 / 42 )\n",
            "    13.0  :  9 % ( 10 / 108 )\n",
            "    16.0  :  9 % ( 10 / 111 )\n",
            "    37.0  :  8 % ( 1 / 12 )\n",
            "    20.0  :  8 % ( 7 / 89 )\n",
            "    36.0  :  6 % ( 1 / 18 )\n",
            "    30.0  :  5 % ( 1 / 21 )\n",
            "    27.0  :  5 % ( 1 / 21 )\n",
            "    21.0  :  4 % ( 4 / 102 )\n",
            "    32.0  :  4 % ( 1 / 27 )\n",
            "    29.0  :  3 % ( 1 / 30 )\n"
          ],
          "name": "stdout"
        },
        {
          "output_type": "display_data",
          "data": {
            "image/png": "[encoded data removed]",
            "text/plain": [
              "<Figure size 432x288 with 1 Axes>"
            ]
          },
          "metadata": {
            "tags": [],
            "needs_background": "light"
          }
        },
        {
          "output_type": "stream",
          "text": [
            "\n",
            "\n",
            "\n",
            " EnvironmentSatisfaction\n",
            "    nan  :  100 % ( 1 / 1 )\n",
            "    nan  :  100 % ( 1 / 1 )\n",
            "    nan  :  100 % ( 1 / 1 )\n",
            "    nan  :  100 % ( 1 / 1 )\n",
            "    nan  :  100 % ( 1 / 1 )\n",
            "    nan  :  100 % ( 1 / 1 )\n",
            "    nan  :  100 % ( 1 / 1 )\n",
            "    nan  :  100 % ( 1 / 1 )\n",
            "    nan  :  100 % ( 1 / 1 )\n",
            "    nan  :  100 % ( 1 / 1 )\n",
            "    nan  :  100 % ( 1 / 1 )\n",
            "    nan  :  100 % ( 1 / 1 )\n",
            "    nan  :  100 % ( 1 / 1 )\n",
            "    nan  :  100 % ( 1 / 1 )\n",
            "    nan  :  100 % ( 1 / 1 )\n",
            "    nan  :  100 % ( 1 / 1 )\n",
            "    nan  :  100 % ( 1 / 1 )\n",
            "    nan  :  100 % ( 1 / 1 )\n",
            "    nan  :  100 % ( 1 / 1 )\n",
            "    nan  :  100 % ( 1 / 1 )\n",
            "    nan  :  100 % ( 1 / 1 )\n",
            "    nan  :  100 % ( 1 / 1 )\n",
            "    nan  :  100 % ( 1 / 1 )\n",
            "    nan  :  100 % ( 1 / 1 )\n",
            "    nan  :  100 % ( 1 / 1 )\n",
            "    1.0  :  25 % ( 213 / 845 )\n",
            "    2.0  :  15 % ( 129 / 856 )\n",
            "    3.0  :  14 % ( 187 / 1350 )\n",
            "    4.0  :  13 % ( 180 / 1334 )\n"
          ],
          "name": "stdout"
        },
        {
          "output_type": "display_data",
          "data": {
            "image/png": "[encoded data removed]",
            "text/plain": [
              "<Figure size 432x288 with 1 Axes>"
            ]
          },
          "metadata": {
            "tags": [],
            "needs_background": "light"
          }
        },
        {
          "output_type": "stream",
          "text": [
            "\n",
            "\n",
            "\n",
            " JobSatisfaction\n",
            "    nan  :  100 % ( 1 / 1 )\n",
            "    nan  :  100 % ( 1 / 1 )\n",
            "    nan  :  100 % ( 1 / 1 )\n",
            "    nan  :  100 % ( 1 / 1 )\n",
            "    nan  :  100 % ( 1 / 1 )\n",
            "    nan  :  100 % ( 1 / 1 )\n",
            "    nan  :  100 % ( 1 / 1 )\n",
            "    nan  :  100 % ( 1 / 1 )\n",
            "    nan  :  100 % ( 1 / 1 )\n",
            "    nan  :  100 % ( 1 / 1 )\n",
            "    nan  :  100 % ( 1 / 1 )\n",
            "    nan  :  100 % ( 1 / 1 )\n",
            "    nan  :  100 % ( 1 / 1 )\n",
            "    nan  :  100 % ( 1 / 1 )\n",
            "    nan  :  100 % ( 1 / 1 )\n",
            "    nan  :  100 % ( 1 / 1 )\n",
            "    nan  :  100 % ( 1 / 1 )\n",
            "    nan  :  100 % ( 1 / 1 )\n",
            "    nan  :  100 % ( 1 / 1 )\n",
            "    nan  :  100 % ( 1 / 1 )\n",
            "    1.0  :  23 % ( 198 / 860 )\n",
            "    3.0  :  17 % ( 219 / 1323 )\n",
            "    2.0  :  16 % ( 138 / 840 )\n",
            "    4.0  :  11 % ( 157 / 1367 )\n"
          ],
          "name": "stdout"
        },
        {
          "output_type": "display_data",
          "data": {
            "image/png": "[encoded data removed]",
            "text/plain": [
              "<Figure size 432x288 with 1 Axes>"
            ]
          },
          "metadata": {
            "tags": [],
            "needs_background": "light"
          }
        },
        {
          "output_type": "stream",
          "text": [
            "\n",
            "\n",
            "\n",
            " WorkLifeBalance\n",
            "    nan  :  100 % ( 1 / 1 )\n",
            "    nan  :  100 % ( 1 / 1 )\n",
            "    nan  :  100 % ( 1 / 1 )\n",
            "    nan  :  100 % ( 1 / 1 )\n",
            "    nan  :  100 % ( 1 / 1 )\n",
            "    nan  :  100 % ( 1 / 1 )\n",
            "    nan  :  100 % ( 1 / 1 )\n",
            "    nan  :  100 % ( 1 / 1 )\n",
            "    nan  :  100 % ( 1 / 1 )\n",
            "    nan  :  100 % ( 1 / 1 )\n",
            "    nan  :  100 % ( 1 / 1 )\n",
            "    nan  :  100 % ( 1 / 1 )\n",
            "    nan  :  100 % ( 1 / 1 )\n",
            "    nan  :  100 % ( 1 / 1 )\n",
            "    nan  :  100 % ( 1 / 1 )\n",
            "    nan  :  100 % ( 1 / 1 )\n",
            "    nan  :  100 % ( 1 / 1 )\n",
            "    nan  :  100 % ( 1 / 1 )\n",
            "    nan  :  100 % ( 1 / 1 )\n",
            "    nan  :  100 % ( 1 / 1 )\n",
            "    nan  :  100 % ( 1 / 1 )\n",
            "    nan  :  100 % ( 1 / 1 )\n",
            "    nan  :  100 % ( 1 / 1 )\n",
            "    nan  :  100 % ( 1 / 1 )\n",
            "    nan  :  100 % ( 1 / 1 )\n",
            "    nan  :  100 % ( 1 / 1 )\n",
            "    nan  :  100 % ( 1 / 1 )\n",
            "    nan  :  100 % ( 1 / 1 )\n",
            "    nan  :  100 % ( 1 / 1 )\n",
            "    nan  :  100 % ( 1 / 1 )\n",
            "    nan  :  100 % ( 1 / 1 )\n",
            "    nan  :  100 % ( 1 / 1 )\n",
            "    nan  :  100 % ( 1 / 1 )\n",
            "    nan  :  100 % ( 1 / 1 )\n",
            "    nan  :  100 % ( 1 / 1 )\n",
            "    nan  :  100 % ( 1 / 1 )\n",
            "    nan  :  100 % ( 1 / 1 )\n",
            "    nan  :  100 % ( 1 / 1 )\n",
            "    1.0  :  32 % ( 76 / 239 )\n",
            "    4.0  :  18 % ( 81 / 454 )\n",
            "    2.0  :  17 % ( 172 / 1019 )\n",
            "    3.0  :  14 % ( 381 / 2660 )\n"
          ],
          "name": "stdout"
        },
        {
          "output_type": "display_data",
          "data": {
            "image/png": "[encoded data removed]",
            "text/plain": [
              "<Figure size 432x288 with 1 Axes>"
            ]
          },
          "metadata": {
            "tags": [],
            "needs_background": "light"
          }
        }
      ]
    }
  ]
}