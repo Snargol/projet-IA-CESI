{
 "cells": [
  {
   "cell_type": "markdown",
   "metadata": {
    "colab_type": "text",
    "id": "view-in-github"
   },
   "source": [
    "<a href=\"https://colab.research.google.com/github/Snargol/projet-IA-CESI/blob/main/Projet_IA.ipynb\" target=\"_parent\"><img src=\"https://colab.research.google.com/assets/colab-badge.svg\" alt=\"Open In Colab\"/></a>"
   ]
  },
  {
   "cell_type": "code",
   "execution_count": 2,
   "metadata": {
    "colab": {
     "base_uri": "https://localhost:8080/",
     "height": 309
    },
    "id": "8JtLsfk1XWP0",
    "outputId": "796bf3d4-6f73-4c71-cf22-67dc97027221"
   },
   "outputs": [
    {
     "data": {
      "text/html": [
       "<div>\n",
       "<style scoped>\n",
       "    .dataframe tbody tr th:only-of-type {\n",
       "        vertical-align: middle;\n",
       "    }\n",
       "\n",
       "    .dataframe tbody tr th {\n",
       "        vertical-align: top;\n",
       "    }\n",
       "\n",
       "    .dataframe thead th {\n",
       "        text-align: right;\n",
       "    }\n",
       "</style>\n",
       "<table border=\"1\" class=\"dataframe\">\n",
       "  <thead>\n",
       "    <tr style=\"text-align: right;\">\n",
       "      <th></th>\n",
       "      <th>Age</th>\n",
       "      <th>Attrition</th>\n",
       "      <th>BusinessTravel</th>\n",
       "      <th>Department</th>\n",
       "      <th>DistanceFromHome</th>\n",
       "      <th>Education</th>\n",
       "      <th>EducationField</th>\n",
       "      <th>EmployeeID</th>\n",
       "      <th>Gender</th>\n",
       "      <th>JobLevel</th>\n",
       "      <th>...</th>\n",
       "      <th>TotalWorkingYears</th>\n",
       "      <th>TrainingTimesLastYear</th>\n",
       "      <th>YearsAtCompany</th>\n",
       "      <th>YearsSinceLastPromotion</th>\n",
       "      <th>YearsWithCurrManager</th>\n",
       "      <th>EnvironmentSatisfaction</th>\n",
       "      <th>JobSatisfaction</th>\n",
       "      <th>WorkLifeBalance</th>\n",
       "      <th>JobInvolvement</th>\n",
       "      <th>PerformanceRating</th>\n",
       "    </tr>\n",
       "  </thead>\n",
       "  <tbody>\n",
       "    <tr>\n",
       "      <th>0</th>\n",
       "      <td>51</td>\n",
       "      <td>No</td>\n",
       "      <td>Travel_Rarely</td>\n",
       "      <td>Sales</td>\n",
       "      <td>6</td>\n",
       "      <td>2</td>\n",
       "      <td>Life Sciences</td>\n",
       "      <td>1</td>\n",
       "      <td>Female</td>\n",
       "      <td>1</td>\n",
       "      <td>...</td>\n",
       "      <td>1.0</td>\n",
       "      <td>6</td>\n",
       "      <td>1</td>\n",
       "      <td>0</td>\n",
       "      <td>0</td>\n",
       "      <td>3.0</td>\n",
       "      <td>4.0</td>\n",
       "      <td>2.0</td>\n",
       "      <td>3</td>\n",
       "      <td>3</td>\n",
       "    </tr>\n",
       "    <tr>\n",
       "      <th>1</th>\n",
       "      <td>31</td>\n",
       "      <td>Yes</td>\n",
       "      <td>Travel_Frequently</td>\n",
       "      <td>Research &amp; Development</td>\n",
       "      <td>10</td>\n",
       "      <td>1</td>\n",
       "      <td>Life Sciences</td>\n",
       "      <td>2</td>\n",
       "      <td>Female</td>\n",
       "      <td>1</td>\n",
       "      <td>...</td>\n",
       "      <td>6.0</td>\n",
       "      <td>3</td>\n",
       "      <td>5</td>\n",
       "      <td>1</td>\n",
       "      <td>4</td>\n",
       "      <td>3.0</td>\n",
       "      <td>2.0</td>\n",
       "      <td>4.0</td>\n",
       "      <td>2</td>\n",
       "      <td>4</td>\n",
       "    </tr>\n",
       "    <tr>\n",
       "      <th>2</th>\n",
       "      <td>32</td>\n",
       "      <td>No</td>\n",
       "      <td>Travel_Frequently</td>\n",
       "      <td>Research &amp; Development</td>\n",
       "      <td>17</td>\n",
       "      <td>4</td>\n",
       "      <td>Other</td>\n",
       "      <td>3</td>\n",
       "      <td>Male</td>\n",
       "      <td>4</td>\n",
       "      <td>...</td>\n",
       "      <td>5.0</td>\n",
       "      <td>2</td>\n",
       "      <td>5</td>\n",
       "      <td>0</td>\n",
       "      <td>3</td>\n",
       "      <td>2.0</td>\n",
       "      <td>2.0</td>\n",
       "      <td>1.0</td>\n",
       "      <td>3</td>\n",
       "      <td>3</td>\n",
       "    </tr>\n",
       "    <tr>\n",
       "      <th>3</th>\n",
       "      <td>38</td>\n",
       "      <td>No</td>\n",
       "      <td>Non-Travel</td>\n",
       "      <td>Research &amp; Development</td>\n",
       "      <td>2</td>\n",
       "      <td>5</td>\n",
       "      <td>Life Sciences</td>\n",
       "      <td>4</td>\n",
       "      <td>Male</td>\n",
       "      <td>3</td>\n",
       "      <td>...</td>\n",
       "      <td>13.0</td>\n",
       "      <td>5</td>\n",
       "      <td>8</td>\n",
       "      <td>7</td>\n",
       "      <td>5</td>\n",
       "      <td>4.0</td>\n",
       "      <td>4.0</td>\n",
       "      <td>3.0</td>\n",
       "      <td>2</td>\n",
       "      <td>3</td>\n",
       "    </tr>\n",
       "    <tr>\n",
       "      <th>4</th>\n",
       "      <td>32</td>\n",
       "      <td>No</td>\n",
       "      <td>Travel_Rarely</td>\n",
       "      <td>Research &amp; Development</td>\n",
       "      <td>10</td>\n",
       "      <td>1</td>\n",
       "      <td>Medical</td>\n",
       "      <td>5</td>\n",
       "      <td>Male</td>\n",
       "      <td>1</td>\n",
       "      <td>...</td>\n",
       "      <td>9.0</td>\n",
       "      <td>2</td>\n",
       "      <td>6</td>\n",
       "      <td>0</td>\n",
       "      <td>4</td>\n",
       "      <td>4.0</td>\n",
       "      <td>1.0</td>\n",
       "      <td>3.0</td>\n",
       "      <td>3</td>\n",
       "      <td>3</td>\n",
       "    </tr>\n",
       "  </tbody>\n",
       "</table>\n",
       "<p>5 rows × 26 columns</p>\n",
       "</div>"
      ],
      "text/plain": [
       "   Age Attrition     BusinessTravel              Department  DistanceFromHome  \\\n",
       "0   51        No      Travel_Rarely                   Sales                 6   \n",
       "1   31       Yes  Travel_Frequently  Research & Development                10   \n",
       "2   32        No  Travel_Frequently  Research & Development                17   \n",
       "3   38        No         Non-Travel  Research & Development                 2   \n",
       "4   32        No      Travel_Rarely  Research & Development                10   \n",
       "\n",
       "   Education EducationField  EmployeeID  Gender  JobLevel  ...  \\\n",
       "0          2  Life Sciences           1  Female         1  ...   \n",
       "1          1  Life Sciences           2  Female         1  ...   \n",
       "2          4          Other           3    Male         4  ...   \n",
       "3          5  Life Sciences           4    Male         3  ...   \n",
       "4          1        Medical           5    Male         1  ...   \n",
       "\n",
       "  TotalWorkingYears TrainingTimesLastYear  YearsAtCompany  \\\n",
       "0               1.0                     6               1   \n",
       "1               6.0                     3               5   \n",
       "2               5.0                     2               5   \n",
       "3              13.0                     5               8   \n",
       "4               9.0                     2               6   \n",
       "\n",
       "   YearsSinceLastPromotion  YearsWithCurrManager  EnvironmentSatisfaction  \\\n",
       "0                        0                     0                      3.0   \n",
       "1                        1                     4                      3.0   \n",
       "2                        0                     3                      2.0   \n",
       "3                        7                     5                      4.0   \n",
       "4                        0                     4                      4.0   \n",
       "\n",
       "   JobSatisfaction  WorkLifeBalance  JobInvolvement  PerformanceRating  \n",
       "0              4.0              2.0               3                  3  \n",
       "1              2.0              4.0               2                  4  \n",
       "2              2.0              1.0               3                  3  \n",
       "3              4.0              3.0               2                  3  \n",
       "4              1.0              3.0               3                  3  \n",
       "\n",
       "[5 rows x 26 columns]"
      ]
     },
     "execution_count": 2,
     "metadata": {},
     "output_type": "execute_result"
    }
   ],
   "source": [
    "import os\n",
    "import pandas as pd\n",
    "\n",
    "def load_data(name):\n",
    "    csv_path = os.path.join(\"./\"+name+\".csv\")\n",
    "    return pd.read_csv(csv_path)\n",
    "\n",
    "def load_final_data():\n",
    "  general_data = load_data(\"general_data_full\")\n",
    "  employee_survey_data = load_data(\"employee_survey_data_full\")\n",
    "  manager_survey_data = load_data(\"manager_survey_data_full\")\n",
    "  temp_result = pd.merge(general_data,employee_survey_data,on='EmployeeID')\n",
    "  result = pd.merge(temp_result,manager_survey_data,on='EmployeeID')\n",
    "  return result.drop(columns=['EmployeeCount','StandardHours','Over18'])\n",
    "\n",
    "columns_to_fill = ['NumCompaniesWorked','TotalWorkingYears','EnvironmentSatisfaction','JobSatisfaction','WorkLifeBalance',]\n",
    "binary_columns = ['Attrition','Gender']\n",
    "nominal_columns = ['Department','EducationField','JobRole','MaritalStatus']\n",
    "ordinal_columns =  [\n",
    "    {\n",
    "        \"label\":'BusinessTravel',\n",
    "        \"order\":['Non-Travel','Travel_Rarely','Travel_Frequently']\n",
    "    }\n",
    "]\n",
    "other_columns = ['Age', 'DistanceFromHome', ]\n",
    "\n",
    "\n",
    "data = load_final_data()\n",
    "data.head()"
   ]
  },
  {
   "cell_type": "code",
   "execution_count": 3,
   "metadata": {
    "colab": {
     "base_uri": "https://localhost:8080/"
    },
    "id": "v6dW57-Uc3HI",
    "outputId": "0067a3ce-9bf0-44ba-b19f-a0b5e46207db"
   },
   "outputs": [
    {
     "data": {
      "text/plain": [
       "True"
      ]
     },
     "execution_count": 3,
     "metadata": {},
     "output_type": "execute_result"
    }
   ],
   "source": [
    "def check_contains_nan(columns_to_fill):\n",
    "  count_nan = 0\n",
    "  for each in columns_to_fill:\n",
    "    temp_count_nan = count_nan + data[each].isna().sum()\n",
    "    count_nan= temp_count_nan\n",
    "  return (count_nan != 0)\n",
    "\n",
    "check_contains_nan(columns_to_fill)"
   ]
  },
  {
   "cell_type": "code",
   "execution_count": 4,
   "metadata": {
    "colab": {
     "base_uri": "https://localhost:8080/",
     "height": 370
    },
    "id": "fHwP8Kvqc4Un",
    "outputId": "b288082a-7718-4ba4-e059-16301bd217e6"
   },
   "outputs": [
    {
     "ename": "KeyError",
     "evalue": "\"None of [Float64Index([    51.0,      6.0,      2.0,      1.0,      1.0, 131160.0,\\n                   1.0,     11.0,      0.0,      1.0,      6.0,      1.0,\\n                   0.0,      0.0,      3.0,      4.0,      2.0,      3.0,\\n                   3.0],\\n             dtype='float64')] are in the [columns]\"",
     "output_type": "error",
     "traceback": [
      "\u001b[1;31m---------------------------------------------------------------------------\u001b[0m",
      "\u001b[1;31mKeyError\u001b[0m                                  Traceback (most recent call last)",
      "\u001b[1;32m<ipython-input-4-9b07cf4358fe>\u001b[0m in \u001b[0;36m<module>\u001b[1;34m\u001b[0m\n\u001b[0;32m      6\u001b[0m \u001b[0mimputer\u001b[0m\u001b[1;33m.\u001b[0m\u001b[0mfit\u001b[0m\u001b[1;33m(\u001b[0m\u001b[0mdata_num\u001b[0m\u001b[1;33m)\u001b[0m\u001b[1;33m\u001b[0m\u001b[1;33m\u001b[0m\u001b[0m\n\u001b[0;32m      7\u001b[0m \u001b[0mdata_num_filled\u001b[0m \u001b[1;33m=\u001b[0m \u001b[0mimputer\u001b[0m\u001b[1;33m.\u001b[0m\u001b[0mtransform\u001b[0m\u001b[1;33m(\u001b[0m\u001b[0mdata_num\u001b[0m\u001b[1;33m)\u001b[0m\u001b[1;33m\u001b[0m\u001b[1;33m\u001b[0m\u001b[0m\n\u001b[1;32m----> 8\u001b[1;33m \u001b[0mcheck_contains_nan\u001b[0m\u001b[1;33m(\u001b[0m\u001b[0mdata_num_filled\u001b[0m\u001b[1;33m)\u001b[0m\u001b[1;33m\u001b[0m\u001b[1;33m\u001b[0m\u001b[0m\n\u001b[0m",
      "\u001b[1;32m<ipython-input-3-a6aa053d2e15>\u001b[0m in \u001b[0;36mcheck_contains_nan\u001b[1;34m(columns_to_fill)\u001b[0m\n\u001b[0;32m      2\u001b[0m   \u001b[0mcount_nan\u001b[0m \u001b[1;33m=\u001b[0m \u001b[1;36m0\u001b[0m\u001b[1;33m\u001b[0m\u001b[1;33m\u001b[0m\u001b[0m\n\u001b[0;32m      3\u001b[0m   \u001b[1;32mfor\u001b[0m \u001b[0meach\u001b[0m \u001b[1;32min\u001b[0m \u001b[0mcolumns_to_fill\u001b[0m\u001b[1;33m:\u001b[0m\u001b[1;33m\u001b[0m\u001b[1;33m\u001b[0m\u001b[0m\n\u001b[1;32m----> 4\u001b[1;33m     \u001b[0mtemp_count_nan\u001b[0m \u001b[1;33m=\u001b[0m \u001b[0mcount_nan\u001b[0m \u001b[1;33m+\u001b[0m \u001b[0mdata\u001b[0m\u001b[1;33m[\u001b[0m\u001b[0meach\u001b[0m\u001b[1;33m]\u001b[0m\u001b[1;33m.\u001b[0m\u001b[0misna\u001b[0m\u001b[1;33m(\u001b[0m\u001b[1;33m)\u001b[0m\u001b[1;33m.\u001b[0m\u001b[0msum\u001b[0m\u001b[1;33m(\u001b[0m\u001b[1;33m)\u001b[0m\u001b[1;33m\u001b[0m\u001b[1;33m\u001b[0m\u001b[0m\n\u001b[0m\u001b[0;32m      5\u001b[0m     \u001b[0mcount_nan\u001b[0m\u001b[1;33m=\u001b[0m \u001b[0mtemp_count_nan\u001b[0m\u001b[1;33m\u001b[0m\u001b[1;33m\u001b[0m\u001b[0m\n\u001b[0;32m      6\u001b[0m   \u001b[1;32mreturn\u001b[0m \u001b[1;33m(\u001b[0m\u001b[0mcount_nan\u001b[0m \u001b[1;33m!=\u001b[0m \u001b[1;36m0\u001b[0m\u001b[1;33m)\u001b[0m\u001b[1;33m\u001b[0m\u001b[1;33m\u001b[0m\u001b[0m\n",
      "\u001b[1;32mD:\\00_Installations\\anaconda\\lib\\site-packages\\pandas\\core\\frame.py\u001b[0m in \u001b[0;36m__getitem__\u001b[1;34m(self, key)\u001b[0m\n\u001b[0;32m   2804\u001b[0m             \u001b[1;32mif\u001b[0m \u001b[0mis_iterator\u001b[0m\u001b[1;33m(\u001b[0m\u001b[0mkey\u001b[0m\u001b[1;33m)\u001b[0m\u001b[1;33m:\u001b[0m\u001b[1;33m\u001b[0m\u001b[1;33m\u001b[0m\u001b[0m\n\u001b[0;32m   2805\u001b[0m                 \u001b[0mkey\u001b[0m \u001b[1;33m=\u001b[0m \u001b[0mlist\u001b[0m\u001b[1;33m(\u001b[0m\u001b[0mkey\u001b[0m\u001b[1;33m)\u001b[0m\u001b[1;33m\u001b[0m\u001b[1;33m\u001b[0m\u001b[0m\n\u001b[1;32m-> 2806\u001b[1;33m             \u001b[0mindexer\u001b[0m \u001b[1;33m=\u001b[0m \u001b[0mself\u001b[0m\u001b[1;33m.\u001b[0m\u001b[0mloc\u001b[0m\u001b[1;33m.\u001b[0m\u001b[0m_get_listlike_indexer\u001b[0m\u001b[1;33m(\u001b[0m\u001b[0mkey\u001b[0m\u001b[1;33m,\u001b[0m \u001b[0maxis\u001b[0m\u001b[1;33m=\u001b[0m\u001b[1;36m1\u001b[0m\u001b[1;33m,\u001b[0m \u001b[0mraise_missing\u001b[0m\u001b[1;33m=\u001b[0m\u001b[1;32mTrue\u001b[0m\u001b[1;33m)\u001b[0m\u001b[1;33m[\u001b[0m\u001b[1;36m1\u001b[0m\u001b[1;33m]\u001b[0m\u001b[1;33m\u001b[0m\u001b[1;33m\u001b[0m\u001b[0m\n\u001b[0m\u001b[0;32m   2807\u001b[0m \u001b[1;33m\u001b[0m\u001b[0m\n\u001b[0;32m   2808\u001b[0m         \u001b[1;31m# take() does not accept boolean indexers\u001b[0m\u001b[1;33m\u001b[0m\u001b[1;33m\u001b[0m\u001b[1;33m\u001b[0m\u001b[0m\n",
      "\u001b[1;32mD:\\00_Installations\\anaconda\\lib\\site-packages\\pandas\\core\\indexing.py\u001b[0m in \u001b[0;36m_get_listlike_indexer\u001b[1;34m(self, key, axis, raise_missing)\u001b[0m\n\u001b[0;32m   1550\u001b[0m \u001b[1;33m\u001b[0m\u001b[0m\n\u001b[0;32m   1551\u001b[0m         self._validate_read_indexer(\n\u001b[1;32m-> 1552\u001b[1;33m             \u001b[0mkeyarr\u001b[0m\u001b[1;33m,\u001b[0m \u001b[0mindexer\u001b[0m\u001b[1;33m,\u001b[0m \u001b[0mo\u001b[0m\u001b[1;33m.\u001b[0m\u001b[0m_get_axis_number\u001b[0m\u001b[1;33m(\u001b[0m\u001b[0maxis\u001b[0m\u001b[1;33m)\u001b[0m\u001b[1;33m,\u001b[0m \u001b[0mraise_missing\u001b[0m\u001b[1;33m=\u001b[0m\u001b[0mraise_missing\u001b[0m\u001b[1;33m\u001b[0m\u001b[1;33m\u001b[0m\u001b[0m\n\u001b[0m\u001b[0;32m   1553\u001b[0m         )\n\u001b[0;32m   1554\u001b[0m         \u001b[1;32mreturn\u001b[0m \u001b[0mkeyarr\u001b[0m\u001b[1;33m,\u001b[0m \u001b[0mindexer\u001b[0m\u001b[1;33m\u001b[0m\u001b[1;33m\u001b[0m\u001b[0m\n",
      "\u001b[1;32mD:\\00_Installations\\anaconda\\lib\\site-packages\\pandas\\core\\indexing.py\u001b[0m in \u001b[0;36m_validate_read_indexer\u001b[1;34m(self, key, indexer, axis, raise_missing)\u001b[0m\n\u001b[0;32m   1637\u001b[0m             \u001b[1;32mif\u001b[0m \u001b[0mmissing\u001b[0m \u001b[1;33m==\u001b[0m \u001b[0mlen\u001b[0m\u001b[1;33m(\u001b[0m\u001b[0mindexer\u001b[0m\u001b[1;33m)\u001b[0m\u001b[1;33m:\u001b[0m\u001b[1;33m\u001b[0m\u001b[1;33m\u001b[0m\u001b[0m\n\u001b[0;32m   1638\u001b[0m                 \u001b[0maxis_name\u001b[0m \u001b[1;33m=\u001b[0m \u001b[0mself\u001b[0m\u001b[1;33m.\u001b[0m\u001b[0mobj\u001b[0m\u001b[1;33m.\u001b[0m\u001b[0m_get_axis_name\u001b[0m\u001b[1;33m(\u001b[0m\u001b[0maxis\u001b[0m\u001b[1;33m)\u001b[0m\u001b[1;33m\u001b[0m\u001b[1;33m\u001b[0m\u001b[0m\n\u001b[1;32m-> 1639\u001b[1;33m                 \u001b[1;32mraise\u001b[0m \u001b[0mKeyError\u001b[0m\u001b[1;33m(\u001b[0m\u001b[1;34mf\"None of [{key}] are in the [{axis_name}]\"\u001b[0m\u001b[1;33m)\u001b[0m\u001b[1;33m\u001b[0m\u001b[1;33m\u001b[0m\u001b[0m\n\u001b[0m\u001b[0;32m   1640\u001b[0m \u001b[1;33m\u001b[0m\u001b[0m\n\u001b[0;32m   1641\u001b[0m             \u001b[1;31m# We (temporarily) allow for some missing keys with .loc, except in\u001b[0m\u001b[1;33m\u001b[0m\u001b[1;33m\u001b[0m\u001b[1;33m\u001b[0m\u001b[0m\n",
      "\u001b[1;31mKeyError\u001b[0m: \"None of [Float64Index([    51.0,      6.0,      2.0,      1.0,      1.0, 131160.0,\\n                   1.0,     11.0,      0.0,      1.0,      6.0,      1.0,\\n                   0.0,      0.0,      3.0,      4.0,      2.0,      3.0,\\n                   3.0],\\n             dtype='float64')] are in the [columns]\""
     ]
    }
   ],
   "source": [
    "from sklearn.impute import SimpleImputer\n",
    "import numpy as np\n",
    "imputer = SimpleImputer(strategy=\"median\")\n",
    "data_num = data.select_dtypes(include=[np.number])\n",
    "check_contains_nan(data_num)\n",
    "imputer.fit(data_num)\n",
    "data_num_filled = imputer.transform(data_num)\n",
    "check_contains_nan(data_num_filled)"
   ]
  },
  {
   "cell_type": "code",
   "execution_count": 5,
   "metadata": {
    "id": "qH2MekvPmNfA"
   },
   "outputs": [],
   "source": [
    "from itertools import groupby\n",
    "import matplotlib.pyplot as plt\n",
    "\n",
    "# we regroup by category with a count of the element\n",
    "def groupBySameElements(list):\n",
    "  toReturn = []\n",
    "  for elem in list:\n",
    "    if not any(elem in i for i in toReturn):\n",
    "      toReturn.append((elem, list.count(elem)))\n",
    "  return toReturn\n",
    "\n",
    "# we get list of elements from a colmun of data\n",
    "def getElemList(list):\n",
    "  toReturn = []\n",
    "  for i in data.MaritalStatus:\n",
    "    toReturn.append(str(i))\n",
    "  return toReturn\n",
    "\n",
    "  # we get the index of the element in the list (by propertyname)\n",
    "def findIndex(propertyName, elem, list):\n",
    "  if list:\n",
    "    i = 0\n",
    "    for x in list:\n",
    "      if x[propertyName] == elem:\n",
    "        return i\n",
    "      i += 1\n",
    "  return -1\n",
    "\n",
    "# we regroup by category with a count of the element and of the attrition\n",
    "def groupBySameElementsTuple(list):\n",
    "  toReturn = []\n",
    "  for elem in list:\n",
    "    index = findIndex('category', elem[0], toReturn)\n",
    "    if index < 0:\n",
    "      toAdd={}\n",
    "      toAdd['category'], toAdd['count'], toAdd['countAttrition'] = elem[0], 1, 1\n",
    "      toReturn.append(toAdd)\n",
    "    else:\n",
    "      if elem[1] == 'Yes':\n",
    "        toReturn[index]['countAttrition'] += 1\n",
    "      toReturn[index]['count'] += 1\n",
    "  return toReturn\n",
    "\n",
    "# we return list of elements by category and by number and attrition\n",
    "def getElementCountAttrition(data):\n",
    "  toReturn = []\n",
    "  for i in data:\n",
    "    toReturn.append(i)\n",
    "  return toReturn\n",
    "\n",
    "# we display the details with the correct percent (sorted)\n",
    "# listExample = [{'category': 'Sales', 'count': 1338, 'countAttrition': 202}]\n",
    "def printList(list):\n",
    "  newlist = sorted(list, key=lambda x: ((x['countAttrition'] / x['count']) * 100), reverse=True)\n",
    "  for elem in newlist:\n",
    "    print('   ',elem['category'], ' : ', round((elem['countAttrition'] / elem['count']) * 100), '%', '(', elem['countAttrition'], '/', elem['count'], ')')\n",
    "\n",
    "def drawGraph(labels, data):\n",
    "  fig = plt.figure()\n",
    "  ax = fig.add_axes([0,0,1,1])\n",
    "  labels, percents = labels, data\n",
    "  ax.bar(labels,percents)\n",
    "  plt.show()\n",
    "\n",
    "def drawColumn(columnName):\n",
    "  listTuples = getElementCountAttrition(zip(data[columnName], data.Attrition))\n",
    "  list = groupBySameElementsTuple(listTuples)\n",
    "  print('\\n\\n\\n', columnName)\n",
    "\n",
    "  labels = []\n",
    "  percents = []\n",
    "  for elem in list:\n",
    "    labels.append(elem['category'])\n",
    "    percents.append((elem['countAttrition'] / elem['count']) * 100)\n",
    "  printList(list)\n",
    "\n",
    "  drawGraph(labels, percents)"
   ]
  },
  {
   "cell_type": "code",
   "execution_count": 6,
   "metadata": {
    "colab": {
     "base_uri": "https://localhost:8080/",
     "height": 1000
    },
    "id": "0N2eqoTsRuKn",
    "outputId": "d526f408-29ab-4164-d74a-983f4f068ba0"
   },
   "outputs": [
    {
     "name": "stdout",
     "output_type": "stream",
     "text": [
      "\n",
      "\n",
      "\n",
      " Department\n",
      "    Human Resources  :  31 % ( 58 / 189 )\n",
      "    Research & Development  :  16 % ( 453 / 2883 )\n",
      "    Sales  :  15 % ( 202 / 1338 )\n"
     ]
    },
    {
     "data": {
      "image/png": "[encoded data removed]",
      "text/plain": [
       "<Figure size 432x288 with 1 Axes>"
      ]
     },
     "metadata": {
      "needs_background": "light"
     },
     "output_type": "display_data"
    },
    {
     "name": "stdout",
     "output_type": "stream",
     "text": [
      "\n",
      "\n",
      "\n",
      " EducationField\n",
      "    Human Resources  :  42 % ( 34 / 81 )\n",
      "    Life Sciences  :  17 % ( 304 / 1818 )\n",
      "    Medical  :  16 % ( 226 / 1392 )\n",
      "    Marketing  :  16 % ( 76 / 477 )\n",
      "    Other  :  13 % ( 31 / 246 )\n",
      "    Technical Degree  :  12 % ( 46 / 396 )\n"
     ]
    },
    {
     "data": {
      "image/png": "[encoded data removed]",
      "text/plain": [
       "<Figure size 432x288 with 1 Axes>"
      ]
     },
     "metadata": {
      "needs_background": "light"
     },
     "output_type": "display_data"
    },
    {
     "name": "stdout",
     "output_type": "stream",
     "text": [
      "\n",
      "\n",
      "\n",
      " JobRole\n",
      "    Research Director  :  24 % ( 58 / 240 )\n",
      "    Research Scientist  :  18 % ( 159 / 876 )\n",
      "    Sales Executive  :  17 % ( 166 / 978 )\n",
      "    Laboratory Technician  :  16 % ( 127 / 777 )\n",
      "    Sales Representative  :  15 % ( 37 / 249 )\n",
      "    Healthcare Representative  :  15 % ( 58 / 393 )\n",
      "    Human Resources  :  14 % ( 22 / 156 )\n",
      "    Manager  :  14 % ( 43 / 306 )\n",
      "    Manufacturing Director  :  11 % ( 49 / 435 )\n"
     ]
    },
    {
     "data": {
      "image/png": "[encoded data removed]",
      "text/plain": [
       "<Figure size 432x288 with 1 Axes>"
      ]
     },
     "metadata": {
      "needs_background": "light"
     },
     "output_type": "display_data"
    },
    {
     "name": "stdout",
     "output_type": "stream",
     "text": [
      "\n",
      "\n",
      "\n",
      " MaritalStatus\n",
      "    Single  :  26 % ( 360 / 1410 )\n",
      "    Married  :  13 % ( 253 / 2019 )\n",
      "    Divorced  :  10 % ( 100 / 981 )\n"
     ]
    },
    {
     "data": {
      "image/png": "[encoded data removed]",
      "text/plain": [
       "<Figure size 432x288 with 1 Axes>"
      ]
     },
     "metadata": {
      "needs_background": "light"
     },
     "output_type": "display_data"
    },
    {
     "name": "stdout",
     "output_type": "stream",
     "text": [
      "\n",
      "\n",
      "\n",
      " NumCompaniesWorked\n",
      "    nan  :  100 % ( 1 / 1 )\n",
      "    nan  :  100 % ( 1 / 1 )\n",
      "    nan  :  100 % ( 1 / 1 )\n",
      "    nan  :  100 % ( 1 / 1 )\n",
      "    nan  :  100 % ( 1 / 1 )\n",
      "    nan  :  100 % ( 1 / 1 )\n",
      "    nan  :  100 % ( 1 / 1 )\n",
      "    nan  :  100 % ( 1 / 1 )\n",
      "    nan  :  100 % ( 1 / 1 )\n",
      "    nan  :  100 % ( 1 / 1 )\n",
      "    nan  :  100 % ( 1 / 1 )\n",
      "    nan  :  100 % ( 1 / 1 )\n",
      "    nan  :  100 % ( 1 / 1 )\n",
      "    nan  :  100 % ( 1 / 1 )\n",
      "    nan  :  100 % ( 1 / 1 )\n",
      "    nan  :  100 % ( 1 / 1 )\n",
      "    nan  :  100 % ( 1 / 1 )\n",
      "    nan  :  100 % ( 1 / 1 )\n",
      "    nan  :  100 % ( 1 / 1 )\n",
      "    5.0  :  25 % ( 47 / 187 )\n",
      "    9.0  :  24 % ( 37 / 156 )\n",
      "    6.0  :  24 % ( 49 / 208 )\n",
      "    7.0  :  23 % ( 52 / 222 )\n",
      "    1.0  :  19 % ( 294 / 1558 )\n",
      "    8.0  :  13 % ( 19 / 147 )\n",
      "    4.0  :  12 % ( 51 / 415 )\n",
      "    0.0  :  12 % ( 69 / 586 )\n",
      "    2.0  :  11 % ( 48 / 438 )\n",
      "    3.0  :  10 % ( 49 / 474 )\n"
     ]
    },
    {
     "data": {
      "image/png": "[encoded data removed]",
      "text/plain": [
       "<Figure size 432x288 with 1 Axes>"
      ]
     },
     "metadata": {
      "needs_background": "light"
     },
     "output_type": "display_data"
    },
    {
     "name": "stdout",
     "output_type": "stream",
     "text": [
      "\n",
      "\n",
      "\n",
      " TotalWorkingYears\n",
      "    nan  :  100 % ( 1 / 1 )\n",
      "    nan  :  100 % ( 1 / 1 )\n",
      "    nan  :  100 % ( 1 / 1 )\n",
      "    40.0  :  100 % ( 6 / 6 )\n",
      "    nan  :  100 % ( 1 / 1 )\n",
      "    nan  :  100 % ( 1 / 1 )\n",
      "    nan  :  100 % ( 1 / 1 )\n",
      "    nan  :  100 % ( 1 / 1 )\n",
      "    nan  :  100 % ( 1 / 1 )\n",
      "    nan  :  100 % ( 1 / 1 )\n",
      "    1.0  :  50 % ( 120 / 242 )\n",
      "    0.0  :  45 % ( 15 / 33 )\n",
      "    38.0  :  33 % ( 1 / 3 )\n",
      "    2.0  :  30 % ( 28 / 93 )\n",
      "    34.0  :  27 % ( 4 / 15 )\n",
      "    7.0  :  23 % ( 55 / 243 )\n",
      "    3.0  :  22 % ( 28 / 126 )\n",
      "    11.0  :  21 % ( 22 / 106 )\n",
      "    4.0  :  20 % ( 37 / 189 )\n",
      "    33.0  :  19 % ( 4 / 21 )\n",
      "    5.0  :  19 % ( 49 / 264 )\n",
      "    24.0  :  19 % ( 10 / 54 )\n",
      "    6.0  :  18 % ( 66 / 375 )\n",
      "    18.0  :  16 % ( 13 / 81 )\n",
      "    8.0  :  16 % ( 48 / 307 )\n",
      "    31.0  :  15 % ( 4 / 27 )\n",
      "    14.0  :  14 % ( 13 / 93 )\n",
      "    19.0  :  14 % ( 9 / 66 )\n",
      "    15.0  :  13 % ( 16 / 120 )\n",
      "    10.0  :  13 % ( 76 / 605 )\n",
      "    22.0  :  11 % ( 7 / 62 )\n",
      "    12.0  :  11 % ( 16 / 144 )\n",
      "    35.0  :  11 % ( 1 / 9 )\n",
      "    9.0  :  11 % ( 31 / 287 )\n",
      "    23.0  :  11 % ( 7 / 66 )\n",
      "    17.0  :  10 % ( 10 / 99 )\n",
      "    28.0  :  10 % ( 4 / 42 )\n",
      "    25.0  :  10 % ( 4 / 42 )\n",
      "    26.0  :  10 % ( 4 / 42 )\n",
      "    13.0  :  9 % ( 10 / 108 )\n",
      "    16.0  :  9 % ( 10 / 111 )\n",
      "    37.0  :  8 % ( 1 / 12 )\n",
      "    20.0  :  8 % ( 7 / 89 )\n",
      "    36.0  :  6 % ( 1 / 18 )\n",
      "    30.0  :  5 % ( 1 / 21 )\n",
      "    27.0  :  5 % ( 1 / 21 )\n",
      "    21.0  :  4 % ( 4 / 102 )\n",
      "    32.0  :  4 % ( 1 / 27 )\n",
      "    29.0  :  3 % ( 1 / 30 )\n"
     ]
    },
    {
     "data": {
      "image/png": "[encoded data removed]",
      "text/plain": [
       "<Figure size 432x288 with 1 Axes>"
      ]
     },
     "metadata": {
      "needs_background": "light"
     },
     "output_type": "display_data"
    },
    {
     "name": "stdout",
     "output_type": "stream",
     "text": [
      "\n",
      "\n",
      "\n",
      " EnvironmentSatisfaction\n",
      "    nan  :  100 % ( 1 / 1 )\n",
      "    nan  :  100 % ( 1 / 1 )\n",
      "    nan  :  100 % ( 1 / 1 )\n",
      "    nan  :  100 % ( 1 / 1 )\n",
      "    nan  :  100 % ( 1 / 1 )\n",
      "    nan  :  100 % ( 1 / 1 )\n",
      "    nan  :  100 % ( 1 / 1 )\n",
      "    nan  :  100 % ( 1 / 1 )\n",
      "    nan  :  100 % ( 1 / 1 )\n",
      "    nan  :  100 % ( 1 / 1 )\n",
      "    nan  :  100 % ( 1 / 1 )\n",
      "    nan  :  100 % ( 1 / 1 )\n",
      "    nan  :  100 % ( 1 / 1 )\n",
      "    nan  :  100 % ( 1 / 1 )\n",
      "    nan  :  100 % ( 1 / 1 )\n",
      "    nan  :  100 % ( 1 / 1 )\n",
      "    nan  :  100 % ( 1 / 1 )\n",
      "    nan  :  100 % ( 1 / 1 )\n",
      "    nan  :  100 % ( 1 / 1 )\n",
      "    nan  :  100 % ( 1 / 1 )\n",
      "    nan  :  100 % ( 1 / 1 )\n",
      "    nan  :  100 % ( 1 / 1 )\n",
      "    nan  :  100 % ( 1 / 1 )\n",
      "    nan  :  100 % ( 1 / 1 )\n",
      "    nan  :  100 % ( 1 / 1 )\n",
      "    1.0  :  25 % ( 213 / 845 )\n",
      "    2.0  :  15 % ( 129 / 856 )\n",
      "    3.0  :  14 % ( 187 / 1350 )\n",
      "    4.0  :  13 % ( 180 / 1334 )\n"
     ]
    },
    {
     "data": {
      "image/png": "[encoded data removed]",
      "text/plain": [
       "<Figure size 432x288 with 1 Axes>"
      ]
     },
     "metadata": {
      "needs_background": "light"
     },
     "output_type": "display_data"
    },
    {
     "name": "stdout",
     "output_type": "stream",
     "text": [
      "\n",
      "\n",
      "\n",
      " JobSatisfaction\n",
      "    nan  :  100 % ( 1 / 1 )\n",
      "    nan  :  100 % ( 1 / 1 )\n",
      "    nan  :  100 % ( 1 / 1 )\n",
      "    nan  :  100 % ( 1 / 1 )\n",
      "    nan  :  100 % ( 1 / 1 )\n",
      "    nan  :  100 % ( 1 / 1 )\n",
      "    nan  :  100 % ( 1 / 1 )\n",
      "    nan  :  100 % ( 1 / 1 )\n",
      "    nan  :  100 % ( 1 / 1 )\n",
      "    nan  :  100 % ( 1 / 1 )\n",
      "    nan  :  100 % ( 1 / 1 )\n",
      "    nan  :  100 % ( 1 / 1 )\n",
      "    nan  :  100 % ( 1 / 1 )\n",
      "    nan  :  100 % ( 1 / 1 )\n",
      "    nan  :  100 % ( 1 / 1 )\n",
      "    nan  :  100 % ( 1 / 1 )\n",
      "    nan  :  100 % ( 1 / 1 )\n",
      "    nan  :  100 % ( 1 / 1 )\n",
      "    nan  :  100 % ( 1 / 1 )\n",
      "    nan  :  100 % ( 1 / 1 )\n",
      "    1.0  :  23 % ( 198 / 860 )\n",
      "    3.0  :  17 % ( 219 / 1323 )\n",
      "    2.0  :  16 % ( 138 / 840 )\n",
      "    4.0  :  11 % ( 157 / 1367 )\n"
     ]
    },
    {
     "data": {
      "image/png": "[encoded data removed]",
      "text/plain": [
       "<Figure size 432x288 with 1 Axes>"
      ]
     },
     "metadata": {
      "needs_background": "light"
     },
     "output_type": "display_data"
    },
    {
     "name": "stdout",
     "output_type": "stream",
     "text": [
      "\n",
      "\n",
      "\n",
      " WorkLifeBalance\n",
      "    nan  :  100 % ( 1 / 1 )\n",
      "    nan  :  100 % ( 1 / 1 )\n",
      "    nan  :  100 % ( 1 / 1 )\n",
      "    nan  :  100 % ( 1 / 1 )\n",
      "    nan  :  100 % ( 1 / 1 )\n",
      "    nan  :  100 % ( 1 / 1 )\n",
      "    nan  :  100 % ( 1 / 1 )\n",
      "    nan  :  100 % ( 1 / 1 )\n",
      "    nan  :  100 % ( 1 / 1 )\n",
      "    nan  :  100 % ( 1 / 1 )\n",
      "    nan  :  100 % ( 1 / 1 )\n",
      "    nan  :  100 % ( 1 / 1 )\n",
      "    nan  :  100 % ( 1 / 1 )\n",
      "    nan  :  100 % ( 1 / 1 )\n",
      "    nan  :  100 % ( 1 / 1 )\n",
      "    nan  :  100 % ( 1 / 1 )\n",
      "    nan  :  100 % ( 1 / 1 )\n",
      "    nan  :  100 % ( 1 / 1 )\n",
      "    nan  :  100 % ( 1 / 1 )\n",
      "    nan  :  100 % ( 1 / 1 )\n",
      "    nan  :  100 % ( 1 / 1 )\n",
      "    nan  :  100 % ( 1 / 1 )\n",
      "    nan  :  100 % ( 1 / 1 )\n",
      "    nan  :  100 % ( 1 / 1 )\n",
      "    nan  :  100 % ( 1 / 1 )\n",
      "    nan  :  100 % ( 1 / 1 )\n",
      "    nan  :  100 % ( 1 / 1 )\n",
      "    nan  :  100 % ( 1 / 1 )\n",
      "    nan  :  100 % ( 1 / 1 )\n",
      "    nan  :  100 % ( 1 / 1 )\n",
      "    nan  :  100 % ( 1 / 1 )\n",
      "    nan  :  100 % ( 1 / 1 )\n",
      "    nan  :  100 % ( 1 / 1 )\n",
      "    nan  :  100 % ( 1 / 1 )\n",
      "    nan  :  100 % ( 1 / 1 )\n",
      "    nan  :  100 % ( 1 / 1 )\n",
      "    nan  :  100 % ( 1 / 1 )\n",
      "    nan  :  100 % ( 1 / 1 )\n",
      "    1.0  :  32 % ( 76 / 239 )\n",
      "    4.0  :  18 % ( 81 / 454 )\n",
      "    2.0  :  17 % ( 172 / 1019 )\n",
      "    3.0  :  14 % ( 381 / 2660 )\n"
     ]
    },
    {
     "data": {
      "image/png": "[encoded data removed]",
      "text/plain": [
       "<Figure size 432x288 with 1 Axes>"
      ]
     },
     "metadata": {
      "needs_background": "light"
     },
     "output_type": "display_data"
    }
   ],
   "source": [
    "for columnName in nominal_columns:\n",
    "  drawColumn(columnName)\n",
    "\n",
    "for columnName in columns_to_fill:\n",
    "  columnName\n",
    "  drawColumn(columnName)\n"
   ]
  },
  {
   "cell_type": "code",
   "execution_count": null,
   "metadata": {},
   "outputs": [],
   "source": []
  },
  {
   "cell_type": "code",
   "execution_count": null,
   "metadata": {},
   "outputs": [],
   "source": []
  }
 ],
 "metadata": {
  "colab": {
   "collapsed_sections": [],
   "include_colab_link": true,
   "name": "Projet_IA",
   "provenance": []
  },
  "kernelspec": {
   "display_name": "Python 3",
   "language": "python",
   "name": "python3"
  },
  "language_info": {
   "codemirror_mode": {
    "name": "ipython",
    "version": 3
   },
   "file_extension": ".py",
   "mimetype": "text/x-python",
   "name": "python",
   "nbconvert_exporter": "python",
   "pygments_lexer": "ipython3",
   "version": "3.7.6"
  }
 },
 "nbformat": 4,
 "nbformat_minor": 1
}
